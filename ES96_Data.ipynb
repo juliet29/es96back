{
  "nbformat": 4,
  "nbformat_minor": 0,
  "metadata": {
    "colab": {
      "name": "ES96_Data.ipynb",
      "provenance": [],
      "collapsed_sections": [],
      "authorship_tag": "ABX9TyPsdHgayh2x2TWRaUdIIL/A",
      "include_colab_link": true
    },
    "kernelspec": {
      "name": "python3",
      "display_name": "Python 3"
    }
  },
  "cells": [
    {
      "cell_type": "markdown",
      "metadata": {
        "id": "view-in-github",
        "colab_type": "text"
      },
      "source": [
        "<a href=\"https://colab.research.google.com/github/juliet29/es96back/blob/master/ES96_Data.ipynb\" target=\"_parent\"><img src=\"https://colab.research.google.com/assets/colab-badge.svg\" alt=\"Open In Colab\"/></a>"
      ]
    },
    {
      "cell_type": "code",
      "metadata": {
        "id": "oa9cufpTqSXK",
        "colab_type": "code",
        "colab": {}
      },
      "source": [
        "import requests\n",
        "import pandas as pd\n",
        "from pandas.io.json import json_normalize\n",
        "\n"
      ],
      "execution_count": 0,
      "outputs": []
    },
    {
      "cell_type": "code",
      "metadata": {
        "id": "OmMVlpehsIPL",
        "colab_type": "code",
        "colab": {}
      },
      "source": [
        "# get data from the database, can change the text after the question mark to query for different things \n",
        "url = \"https://es96app.herokuapp.com/justdata?username=ES96\"\n",
        "\n",
        "payload = {}\n",
        "headers= {}\n",
        "\n",
        "response = requests.request(\"GET\", url, headers=headers, data = payload)"
      ],
      "execution_count": 0,
      "outputs": []
    },
    {
      "cell_type": "code",
      "metadata": {
        "id": "2JHpU98lrke7",
        "colab_type": "code",
        "colab": {}
      },
      "source": [
        "# uncomment below to see the data in json() format \n",
        "# response.json()"
      ],
      "execution_count": 0,
      "outputs": []
    },
    {
      "cell_type": "code",
      "metadata": {
        "id": "MqzQFY_CrlhZ",
        "colab_type": "code",
        "colab": {
          "base_uri": "https://localhost:8080/",
          "height": 197
        },
        "outputId": "fe12f2f0-d7ae-40d6-e26b-e5ec5c2b344e"
      },
      "source": [
        "# turn the response into a pandas dataframe \n",
        "response_df = pd.json_normalize(response.json())\n",
        "\n",
        "# view the first n rows of this dataframe\n",
        "n = 5 # can change this to see more rows\n",
        "display(response_df.head(n))"
      ],
      "execution_count": 103,
      "outputs": [
        {
          "output_type": "display_data",
          "data": {
            "text/html": [
              "<div>\n",
              "<style scoped>\n",
              "    .dataframe tbody tr th:only-of-type {\n",
              "        vertical-align: middle;\n",
              "    }\n",
              "\n",
              "    .dataframe tbody tr th {\n",
              "        vertical-align: top;\n",
              "    }\n",
              "\n",
              "    .dataframe thead th {\n",
              "        text-align: right;\n",
              "    }\n",
              "</style>\n",
              "<table border=\"1\" class=\"dataframe\">\n",
              "  <thead>\n",
              "    <tr style=\"text-align: right;\">\n",
              "      <th></th>\n",
              "      <th>_id</th>\n",
              "      <th>data</th>\n",
              "      <th>device</th>\n",
              "      <th>scan_id</th>\n",
              "      <th>session_id</th>\n",
              "      <th>tags</th>\n",
              "      <th>time</th>\n",
              "      <th>username</th>\n",
              "      <th>ripenessDays</th>\n",
              "      <th>ripenessState</th>\n",
              "    </tr>\n",
              "  </thead>\n",
              "  <tbody>\n",
              "    <tr>\n",
              "      <th>0</th>\n",
              "      <td>5ea3c02dfaa771d0b9cff84e</td>\n",
              "      <td>[{'freq1': '50', 'freq2': '70', 'freq3': '60',...</td>\n",
              "      <td>prototype_1</td>\n",
              "      <td>mh1</td>\n",
              "      <td>test3</td>\n",
              "      <td>[{}]</td>\n",
              "      <td>2020-04-16:11:09</td>\n",
              "      <td>ES96</td>\n",
              "      <td>NaN</td>\n",
              "      <td>NaN</td>\n",
              "    </tr>\n",
              "    <tr>\n",
              "      <th>1</th>\n",
              "      <td>5ea3c05efaa771d0b9cff84f</td>\n",
              "      <td>[{'freq1': 'nonsense!!!', 'freq2': 'more nonse...</td>\n",
              "      <td>prototype_1</td>\n",
              "      <td>mh2</td>\n",
              "      <td>NaN</td>\n",
              "      <td>[{}]</td>\n",
              "      <td>2020-04-16:11:09</td>\n",
              "      <td>ES96</td>\n",
              "      <td>NaN</td>\n",
              "      <td>NaN</td>\n",
              "    </tr>\n",
              "    <tr>\n",
              "      <th>2</th>\n",
              "      <td>5ea3c0a1462c0faaf038aacf</td>\n",
              "      <td>[{'impedance_sweep': None, 'light_spectrum': [...</td>\n",
              "      <td>prototype_1</td>\n",
              "      <td>mh3</td>\n",
              "      <td>NaN</td>\n",
              "      <td>[{}]</td>\n",
              "      <td>2020-04-24_21-46-25</td>\n",
              "      <td>ES96</td>\n",
              "      <td>NaN</td>\n",
              "      <td>NaN</td>\n",
              "    </tr>\n",
              "    <tr>\n",
              "      <th>3</th>\n",
              "      <td>5ea3c0e4462c0faaf038aad0</td>\n",
              "      <td>[{'impedance_sweep': None, 'light_spectrum': [...</td>\n",
              "      <td>prototype_1</td>\n",
              "      <td>mh4</td>\n",
              "      <td>NaN</td>\n",
              "      <td>[{}]</td>\n",
              "      <td>2020-04-24_21-47-31</td>\n",
              "      <td>ES96</td>\n",
              "      <td>NaN</td>\n",
              "      <td>NaN</td>\n",
              "    </tr>\n",
              "    <tr>\n",
              "      <th>4</th>\n",
              "      <td>5ea3c108faa771d0b9cff850</td>\n",
              "      <td>[{'impedance_sweep': None, 'light_spectrum': [...</td>\n",
              "      <td>prototype_1</td>\n",
              "      <td>mh5</td>\n",
              "      <td>NaN</td>\n",
              "      <td>[{}]</td>\n",
              "      <td>2020-04-24_21-48-07</td>\n",
              "      <td>ES96</td>\n",
              "      <td>NaN</td>\n",
              "      <td>NaN</td>\n",
              "    </tr>\n",
              "  </tbody>\n",
              "</table>\n",
              "</div>"
            ],
            "text/plain": [
              "                        _id  ... ripenessState\n",
              "0  5ea3c02dfaa771d0b9cff84e  ...           NaN\n",
              "1  5ea3c05efaa771d0b9cff84f  ...           NaN\n",
              "2  5ea3c0a1462c0faaf038aacf  ...           NaN\n",
              "3  5ea3c0e4462c0faaf038aad0  ...           NaN\n",
              "4  5ea3c108faa771d0b9cff850  ...           NaN\n",
              "\n",
              "[5 rows x 10 columns]"
            ]
          },
          "metadata": {
            "tags": []
          }
        }
      ]
    },
    {
      "cell_type": "code",
      "metadata": {
        "id": "FpwiG57CxA2P",
        "colab_type": "code",
        "colab": {
          "base_uri": "https://localhost:8080/",
          "height": 34
        },
        "outputId": "1488fbc2-b4b2-4553-fac0-35f677740b84"
      },
      "source": [
        "# see total number of (rows, columns) in the dataframe \n",
        "response_df.shape"
      ],
      "execution_count": 104,
      "outputs": [
        {
          "output_type": "execute_result",
          "data": {
            "text/plain": [
              "(197, 10)"
            ]
          },
          "metadata": {
            "tags": []
          },
          "execution_count": 104
        }
      ]
    },
    {
      "cell_type": "code",
      "metadata": {
        "id": "NCgsMoRwyC7S",
        "colab_type": "code",
        "colab": {}
      },
      "source": [
        "# create a dataframe that has only the info you care about \n",
        "legit_df = pd.DataFrame()\n",
        "for row in range(165,197): \n",
        "  # REALLY IMPORTANT: use if statements (not shown) to verify the response_df.data column has the nessecary params. \n",
        "  # here, from looking at the entire response_df (changing n to be 197 above), I can see that rows 165 - 197 have the most complete information\n",
        "\n",
        "  # expand the response_df.data from one column into many\n",
        "  a = pd.json_normalize(response_df.data[row][0])\n",
        "  # add additional parameters from the response that you might care about \n",
        "  a.insert(0, 'scan_id', response_df.scan_id[row], True) \n",
        "  a.insert(1, 'ripenessState', response_df.ripenessState[row], True) \n",
        "  # append the data by row \n",
        "  legit_df = legit_df.append(a, ignore_index = True)\n",
        "\n",
        "\n"
      ],
      "execution_count": 0,
      "outputs": []
    },
    {
      "cell_type": "code",
      "metadata": {
        "id": "1xzHCLbYzmtW",
        "colab_type": "code",
        "colab": {
          "base_uri": "https://localhost:8080/",
          "height": 197
        },
        "outputId": "24ae666c-b9cf-4980-d169-2357caa58a77"
      },
      "source": [
        "# view the first 5 rows of this dataframe\n",
        "display(legit_df.head(5))"
      ],
      "execution_count": 106,
      "outputs": [
        {
          "output_type": "display_data",
          "data": {
            "text/html": [
              "<div>\n",
              "<style scoped>\n",
              "    .dataframe tbody tr th:only-of-type {\n",
              "        vertical-align: middle;\n",
              "    }\n",
              "\n",
              "    .dataframe tbody tr th {\n",
              "        vertical-align: top;\n",
              "    }\n",
              "\n",
              "    .dataframe thead th {\n",
              "        text-align: right;\n",
              "    }\n",
              "</style>\n",
              "<table border=\"1\" class=\"dataframe\">\n",
              "  <thead>\n",
              "    <tr style=\"text-align: right;\">\n",
              "      <th></th>\n",
              "      <th>scan_id</th>\n",
              "      <th>ripenessState</th>\n",
              "      <th>days</th>\n",
              "      <th>impedance_sweep</th>\n",
              "      <th>light_spectrum</th>\n",
              "      <th>sound_attenuation</th>\n",
              "      <th>stage</th>\n",
              "    </tr>\n",
              "  </thead>\n",
              "  <tbody>\n",
              "    <tr>\n",
              "      <th>0</th>\n",
              "      <td>mr10</td>\n",
              "      <td>NaN</td>\n",
              "      <td>6</td>\n",
              "      <td>[46663.35148, 53763.12933, 44202.84188, 48044....</td>\n",
              "      <td>[90.22, 45.23, 75.89, 38.15, 50.73, 64.87, 52....</td>\n",
              "      <td>27.10</td>\n",
              "      <td>2</td>\n",
              "    </tr>\n",
              "    <tr>\n",
              "      <th>1</th>\n",
              "      <td>mh3</td>\n",
              "      <td>NaN</td>\n",
              "      <td>6</td>\n",
              "      <td>[27016.69822, 28826.44376, 24373.30814, 24819....</td>\n",
              "      <td>[63.74, 24.92, 41.07, 21.8, 27.6, 32.09, 29.7,...</td>\n",
              "      <td>33.57</td>\n",
              "      <td>2</td>\n",
              "    </tr>\n",
              "    <tr>\n",
              "      <th>2</th>\n",
              "      <td>mr11</td>\n",
              "      <td>NaN</td>\n",
              "      <td>4</td>\n",
              "      <td>[40428.80587, 45388.31794, 37759.62818, 40319....</td>\n",
              "      <td>[95.12, 47.08, 75.0, 39.96, 49.24, 56.5, 46.77...</td>\n",
              "      <td>30.91</td>\n",
              "      <td>2</td>\n",
              "    </tr>\n",
              "    <tr>\n",
              "      <th>3</th>\n",
              "      <td>mr12</td>\n",
              "      <td>NaN</td>\n",
              "      <td>6</td>\n",
              "      <td>[60501.71335, 74171.40791, 58901.9105, 67714.4...</td>\n",
              "      <td>[95.12, 48.92, 76.79, 40.87, 51.48, 57.9, 46.1...</td>\n",
              "      <td>30.88</td>\n",
              "      <td>2</td>\n",
              "    </tr>\n",
              "    <tr>\n",
              "      <th>4</th>\n",
              "      <td>mh2</td>\n",
              "      <td>NaN</td>\n",
              "      <td>6</td>\n",
              "      <td>[50450.41656, 58692.08877, 47960.18972, 53076....</td>\n",
              "      <td>[62.76, 24.92, 41.07, 20.89, 26.11, 29.3, 30.3...</td>\n",
              "      <td>31.49</td>\n",
              "      <td>2</td>\n",
              "    </tr>\n",
              "  </tbody>\n",
              "</table>\n",
              "</div>"
            ],
            "text/plain": [
              "  scan_id  ripenessState  ...  sound_attenuation stage\n",
              "0    mr10            NaN  ...              27.10     2\n",
              "1     mh3            NaN  ...              33.57     2\n",
              "2    mr11            NaN  ...              30.91     2\n",
              "3    mr12            NaN  ...              30.88     2\n",
              "4     mh2            NaN  ...              31.49     2\n",
              "\n",
              "[5 rows x 7 columns]"
            ]
          },
          "metadata": {
            "tags": []
          }
        }
      ]
    }
  ]
}